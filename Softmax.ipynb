{
 "cells": [
  {
   "cell_type": "code",
   "execution_count": 1,
   "metadata": {
    "collapsed": false
   },
   "outputs": [
    {
     "name": "stdout",
     "output_type": "stream",
     "text": [
      "Using matplotlib backend: Qt4Agg\n",
      "Populating the interactive namespace from numpy and matplotlib\n"
     ]
    }
   ],
   "source": [
    "%pylab\n",
    "%matplotlib inline\n",
    "import tensorflow as tf"
   ]
  },
  {
   "cell_type": "code",
   "execution_count": 4,
   "metadata": {
    "collapsed": true
   },
   "outputs": [],
   "source": [
    "np.loadtxt?"
   ]
  },
  {
   "cell_type": "code",
   "execution_count": 8,
   "metadata": {
    "collapsed": false,
    "scrolled": true
   },
   "outputs": [
    {
     "name": "stdout",
     "output_type": "stream",
     "text": [
      "0 1.09774 [[ -8.33333252e-05   4.16666626e-05   4.16666480e-05]\n",
      " [  1.66666694e-04   2.91666773e-04  -4.58333408e-04]\n",
      " [  1.66666636e-04   4.16666706e-04  -5.83333429e-04]]\n",
      "200 1.05962 [[-0.02051384 -0.00103983  0.02155367]\n",
      " [ 0.01406439  0.01097753 -0.0250419 ]\n",
      " [ 0.01431208  0.03574874 -0.05006079]]\n",
      "400 1.04985 [[-0.04282598 -0.00625899  0.04908497]\n",
      " [ 0.01747187  0.00156368 -0.01903554]\n",
      " [ 0.01831204  0.04954104 -0.06785305]]\n",
      "600 1.0407 [[-0.06517859 -0.01176361  0.07694223]\n",
      " [ 0.01943521 -0.00848972 -0.01094547]\n",
      " [ 0.0211558   0.06118308 -0.0823388 ]]\n",
      "800 1.03194 [[-0.08734013 -0.01729389  0.10463406]\n",
      " [ 0.0211172  -0.01796171 -0.00315547]\n",
      " [ 0.02396628  0.07198346 -0.09594975]]\n",
      "1000 1.02354 [[-0.10928574 -0.02282182  0.13210759]\n",
      " [ 0.02266255 -0.02678035  0.00411784]\n",
      " [ 0.02685851  0.08210357 -0.10896213]]\n",
      "1200 1.01547 [[-0.13101467 -0.02834093  0.15935563]\n",
      " [ 0.02409704 -0.03497621  0.01087924]\n",
      " [ 0.02983199  0.091598   -0.12143002]]\n",
      "1400 1.0077 [[-0.15252906 -0.03384716  0.1863762 ]\n",
      " [ 0.02543302 -0.04258838  0.01715543]\n",
      " [ 0.03287464  0.10050804 -0.13338274]]\n",
      "1600 1.00021 [[-0.1738314  -0.03933693  0.21316831]\n",
      " [ 0.02668083 -0.04965464  0.02297391]\n",
      " [ 0.03597423  0.10887134 -0.14484566]]\n",
      "1800 0.992979 [[-0.19492455 -0.04480689  0.23973146]\n",
      " [ 0.02784995 -0.05621057  0.02836075]\n",
      " [ 0.0391195   0.11672312 -0.15584266]]\n",
      "2000 0.985988 [[-0.21581143 -0.05025397  0.26606542]\n",
      " [ 0.02894918 -0.06228961  0.03334056]\n",
      " [ 0.04230016  0.12409624 -0.16639641]]\n"
     ]
    }
   ],
   "source": [
    "xy = np.loadtxt('./train.txt', unpack=True, dtype='float32', delimiter=',')\n",
    "x_data = np.transpose(xy[0:3])\n",
    "y_data = np.transpose(xy[3:])\n",
    "\n",
    "#tf graph input\n",
    "X = tf.placeholder('float', [None, 3]) #x1, x2 and 1 (for bias)\n",
    "Y = tf.placeholder('float', [None, 3]) #A, B, C => 3 classes\n",
    "# Set model weights\n",
    "W = tf.Variable(tf.zeros([3, 3]))\n",
    "\n",
    "# Construct model\n",
    "hypothesis = tf.nn.softmax(tf.matmul(X, W)) # Softmax\n",
    "\n",
    "# minimize error using cross entropy\n",
    "learning_rate = 0.001\n",
    "\n",
    "# Cross entropy\n",
    "cost = tf.reduce_mean(-tf.reduce_sum(Y*tf.log(hypothesis), reduction_indices=1))\n",
    "\n",
    "#gradient Descent\n",
    "optimizer = tf.train.GradientDescentOptimizer(learning_rate).minimize(cost)\n",
    "\n",
    "#Initializing the variables\n",
    "init = tf.initialize_all_variables()\n",
    "\n",
    "# Launch the graph\n",
    "with tf.Session() as sess:\n",
    "    sess.run(init)\n",
    "    \n",
    "    for step in xrange(2001):\n",
    "        sess.run(optimizer, feed_dict={X:x_data, Y:y_data})\n",
    "        if step %200 == 0:\n",
    "            print step, sess.run(cost, feed_dict={X:x_data, Y:y_data}), sess.run(W)"
   ]
  },
  {
   "cell_type": "code",
   "execution_count": 12,
   "metadata": {
    "collapsed": false
   },
   "outputs": [
    {
     "name": "stdout",
     "output_type": "stream",
     "text": [
      " [[ 0.46272627  0.35483009  0.18244369]] [0]\n",
      "[[ 0.33820099  0.42101383  0.24078514]] [1]\n",
      "[[ 0.46272627  0.35483006  0.18244369]\n",
      " [ 0.33820099  0.42101383  0.24078514]\n",
      " [ 0.27002314  0.29085544  0.4391214 ]] [0 1 2]\n"
     ]
    }
   ],
   "source": [
    "xy = np.loadtxt('./train.txt', unpack=True, dtype='float32', delimiter=',')\n",
    "x_data = np.transpose(xy[0:3])\n",
    "y_data = np.transpose(xy[3:])\n",
    "\n",
    "#tf graph input\n",
    "X = tf.placeholder('float', [None, 3]) #x1, x2 and 1 (for bias)\n",
    "Y = tf.placeholder('float', [None, 3]) #A, B, C => 3 classes\n",
    "# Set model weights\n",
    "W = tf.Variable(tf.zeros([3, 3]))\n",
    "\n",
    "# Construct model\n",
    "hypothesis = tf.nn.softmax(tf.matmul(X, W)) # Softmax\n",
    "\n",
    "# minimize error using cross entropy\n",
    "learning_rate = 0.001\n",
    "\n",
    "# Cross entropy\n",
    "cost = tf.reduce_mean(-tf.reduce_sum(Y*tf.log(hypothesis), reduction_indices=1))\n",
    "\n",
    "#gradient Descent\n",
    "optimizer = tf.train.GradientDescentOptimizer(learning_rate).minimize(cost)\n",
    "\n",
    "#Initializing the variables\n",
    "init = tf.initialize_all_variables()\n",
    "\n",
    "# Launch the graph\n",
    "with tf.Session() as sess:\n",
    "    sess.run(init)\n",
    "    \n",
    "    for step in xrange(2001):\n",
    "        sess.run(optimizer, feed_dict={X:x_data, Y:y_data})\n",
    "        #if step %200 == 0:\n",
    "        #    print step, sess.run(cost, feed_dict={X:x_data, Y:y_data}), sess.run(W)\n",
    "\n",
    "\n",
    "    a = sess.run(hypothesis, feed_dict={X:[[1, 11, 7]]})\n",
    "    print a, sess.run(tf.arg_max(a, 1))\n",
    "\n",
    "    b = sess.run(hypothesis, feed_dict={X:[[1, 3, 4]]})\n",
    "    print b, sess.run(tf.arg_max(b, 1))\n",
    "\n",
    "    all = sess.run(hypothesis, feed_dict={X:[[1, 11, 7], [1, 3, 4], [1, 1, 0]]})\n",
    "    print all, sess.run(tf.arg_max(all, 1))"
   ]
  },
  {
   "cell_type": "code",
   "execution_count": null,
   "metadata": {
    "collapsed": true
   },
   "outputs": [],
   "source": []
  }
 ],
 "metadata": {
  "kernelspec": {
   "display_name": "Python 2",
   "language": "python",
   "name": "python2"
  },
  "language_info": {
   "codemirror_mode": {
    "name": "ipython",
    "version": 2
   },
   "file_extension": ".py",
   "mimetype": "text/x-python",
   "name": "python",
   "nbconvert_exporter": "python",
   "pygments_lexer": "ipython2",
   "version": "2.7.11"
  }
 },
 "nbformat": 4,
 "nbformat_minor": 0
}
