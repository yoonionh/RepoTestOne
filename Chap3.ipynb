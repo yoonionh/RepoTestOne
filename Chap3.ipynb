{
 "cells": [
  {
   "cell_type": "markdown",
   "metadata": {},
   "source": [
    "### 필요 라이브러리 import"
   ]
  },
  {
   "cell_type": "code",
   "execution_count": null,
   "metadata": {
    "collapsed": false
   },
   "outputs": [],
   "source": [
    "%pylab\n",
    "%matplotlib inline\n",
    "import pandas as pd\n",
    "import seaborn as sns\n",
    "import tensorflow as tf"
   ]
  },
  {
   "cell_type": "markdown",
   "metadata": {},
   "source": [
    "### 2개의  분포를 이용하여, 2000개의 랜덤 좌표를 생성"
   ]
  },
  {
   "cell_type": "code",
   "execution_count": null,
   "metadata": {
    "collapsed": false
   },
   "outputs": [],
   "source": [
    "num_points = 2000\n",
    "set_points = []\n",
    "\n",
    "for i in xrange(num_points):\n",
    "    if np.random.random() > 0.5:\n",
    "        set_points.append([np.random.normal(0.0, 0.9), np.random.normal(0.0, 0.9)])\n",
    "    else:\n",
    "        set_points.append([np.random.normal(3.0, 0.5), np.random.normal(1.0, 0.5)])\n",
    "\n"
   ]
  },
  {
   "cell_type": "markdown",
   "metadata": {},
   "source": [
    "### 발생된 랜덤 좌표를 Plot"
   ]
  },
  {
   "cell_type": "code",
   "execution_count": null,
   "metadata": {
    "collapsed": false
   },
   "outputs": [],
   "source": [
    "df = pd.DataFrame({\"x\" : [v[0] for v in set_points],\n",
    "                   \"y\" : [v[1] for v in set_points]})\n",
    "sns.lmplot(\"x\", \"y\",data=df, fit_reg=False, size=6);\n",
    "df.describe()"
   ]
  },
  {
   "cell_type": "markdown",
   "metadata": {},
   "source": [
    "### 2000개의 좌표를 텐서 벡터로 변환하고 4개의 중심치를 선정"
   ]
  },
  {
   "cell_type": "code",
   "execution_count": null,
   "metadata": {
    "collapsed": false
   },
   "outputs": [],
   "source": [
    "vectors    = tf.constant(set_points)       # 랜덤 포인트를 상수 텐서로 변\n",
    "k          = 4                             # centroid 개수\n",
    "shuffled   = tf.random_shuffle(vectors)    # vector 순서를 섞어 centroid 선정을 난수화\n",
    "sliced     = tf.slice(shuffled, begin=[0, 0], size=[k, -1]) # 상위 4개 선정\n",
    "\n",
    "centroides = tf.Variable(sliced)           # 선정된 데이터를 텐서변수로 변환"
   ]
  },
  {
   "cell_type": "code",
   "execution_count": null,
   "metadata": {
    "collapsed": true
   },
   "outputs": [],
   "source": [
    "tf.random_shuffle?"
   ]
  },
  {
   "cell_type": "code",
   "execution_count": null,
   "metadata": {
    "collapsed": true
   },
   "outputs": [],
   "source": [
    "tf.slice?"
   ]
  },
  {
   "cell_type": "markdown",
   "metadata": {},
   "source": [
    "###  차원 확장"
   ]
  },
  {
   "cell_type": "code",
   "execution_count": null,
   "metadata": {
    "collapsed": false
   },
   "outputs": [],
   "source": [
    "expanded_vectors = tf.expand_dims(vectors, 0)\n",
    "expanded_centroides = tf.expand_dims(centroides, 1)\n",
    "\n",
    "print expanded_vectors.get_shape(), vectors.get_shape()\n",
    "print expanded_centroides.get_shape(), centroides.get_shape()"
   ]
  },
  {
   "cell_type": "markdown",
   "metadata": {},
   "source": [
    "![expand_dims](https://i2.wp.com/www.jorditorres.org/wp-content/uploads/2016/02/image031.gif)"
   ]
  },
  {
   "cell_type": "markdown",
   "metadata": {},
   "source": [
    "### Squared uclidean distance"
   ]
  },
  {
   "cell_type": "code",
   "execution_count": null,
   "metadata": {
    "collapsed": false
   },
   "outputs": [],
   "source": [
    "diff = tf.sub(expanded_vectors, expanded_centroides)\n",
    "sqr = tf.square(diff)\n",
    "distances = tf.reduce_sum(sqr,reduction_indices=[2])\n",
    "assignments= tf.argmin(distances, dimension=0)\n",
    "\n",
    "print diff.get_shape()\n",
    "print sqr.get_shape()\n",
    "print distances.get_shape()\n",
    "print assignments.get_shape()"
   ]
  },
  {
   "cell_type": "markdown",
   "metadata": {},
   "source": [
    "![sqr_euclidian_dist](https://i2.wp.com/www.jorditorres.org/wp-content/uploads/2016/02/image028.jpg)"
   ]
  },
  {
   "cell_type": "markdown",
   "metadata": {},
   "source": [
    "차원 축약에 쓰이는 연산들\n",
    "\n",
    "Operation      | Description\n",
    "---------------|----------------------------------------------------------\n",
    "tf.reduce_sum  | Computes the sum of the elements along one dimension\n",
    "tf.reduce_prod | Computes the product of the elements along one dimension\n",
    "tf.reduce_min  | Computes the minimum of the elements along one dimension\n",
    "tf.reduce_max  | Computes the maximum of the elements along one dimension\n",
    "tf.reduce_mean | Computes the mean of the elements along one dimension\n",
    "\n",
    "인덱스를 리턴하는 연산들\n",
    "\n",
    "Operation  |  Description\n",
    "-----------|-------------------------------------------------------------------------\n",
    "tf.argmin  |  Returns the index of the element with the minimum value along tensor dimension\n",
    "tf.argmax  |  Returns the index of the element with the maximum value of the tensor dimension"
   ]
  },
  {
   "cell_type": "markdown",
   "metadata": {},
   "source": [
    "###  새 중심치 계산"
   ]
  },
  {
   "cell_type": "code",
   "execution_count": null,
   "metadata": {
    "collapsed": false
   },
   "outputs": [],
   "source": [
    "centroid_mean=[]\n",
    "for c in range(k):\n",
    "    eq = tf.equal(assignments, c) # Centroid C와 일치하는 Assignment 추출\n",
    "    loc = tf.where(eq)            # eq로 부터 해당 위치 추출\n",
    "    indices_flatten = tf.reshape(loc, [1, -1]) # 위치를 1차 배열로 정렬\n",
    "    gathered = tf.gather(vectors,indices_flatten ) # 해당 data를 모음\n",
    "    centroid_mean.append(tf.reduce_mean(gathered, reduction_indices=[1])) # 새 평균"
   ]
  },
  {
   "cell_type": "code",
   "execution_count": null,
   "metadata": {
    "collapsed": true
   },
   "outputs": [],
   "source": [
    "tf.gather?"
   ]
  },
  {
   "cell_type": "code",
   "execution_count": null,
   "metadata": {
    "collapsed": false
   },
   "outputs": [],
   "source": [
    "means = tf.concat(concat_dim=0, values=centroid_mean)"
   ]
  },
  {
   "cell_type": "code",
   "execution_count": null,
   "metadata": {
    "collapsed": false
   },
   "outputs": [],
   "source": [
    "print means.get_shape()"
   ]
  },
  {
   "cell_type": "code",
   "execution_count": null,
   "metadata": {
    "collapsed": false
   },
   "outputs": [],
   "source": [
    "update_centroides = tf.assign(centroides, means)\n",
    "init_op = tf.initialize_all_variables()\n",
    "\n",
    "sess = tf.Session()\n",
    "sess.run(init_op)\n",
    "\n",
    "for step in xrange(100):\n",
    "    _, centroid_values, assignment_values = sess.run([update_centroides, centroides, assignments])\n",
    "    "
   ]
  },
  {
   "cell_type": "code",
   "execution_count": null,
   "metadata": {
    "collapsed": true
   },
   "outputs": [],
   "source": [
    "tf.assign?"
   ]
  },
  {
   "cell_type": "code",
   "execution_count": null,
   "metadata": {
    "collapsed": false
   },
   "outputs": [],
   "source": [
    "data = {\"x\":[],\n",
    "       \"y\":[],\n",
    "       \"cluster\":[]}\n",
    "\n",
    "for i in xrange(len(assignment_values)):\n",
    "    data[\"x\"].append(set_points[i][0])\n",
    "    data[\"y\"].append(set_points[i][1])\n",
    "    data[\"cluster\"].append(assignment_values[i])\n",
    "    \n",
    "df = pd.DataFrame(data)\n",
    "sns.lmplot(\"x\", \"y\", data=df, fit_reg=False, size=6, hue=\"cluster\", legend=False)\n",
    "    "
   ]
  },
  {
   "cell_type": "code",
   "execution_count": null,
   "metadata": {
    "collapsed": false
   },
   "outputs": [],
   "source": [
    "pd.DataFrame(data).groupby('cluster').std()"
   ]
  },
  {
   "cell_type": "code",
   "execution_count": null,
   "metadata": {
    "collapsed": true
   },
   "outputs": [],
   "source": []
  }
 ],
 "metadata": {
  "kernelspec": {
   "display_name": "Python 2",
   "language": "python",
   "name": "python2"
  },
  "language_info": {
   "codemirror_mode": {
    "name": "ipython",
    "version": 2
   },
   "file_extension": ".py",
   "mimetype": "text/x-python",
   "name": "python",
   "nbconvert_exporter": "python",
   "pygments_lexer": "ipython2",
   "version": "2.7.11"
  }
 },
 "nbformat": 4,
 "nbformat_minor": 0
}
